{
 "cells": [
  {
   "cell_type": "code",
   "execution_count": 47,
   "id": "82110d20",
   "metadata": {},
   "outputs": [],
   "source": [
    "from tensorflow import keras\n",
    "keras.__version__\n",
    "import tensorflow as tf"
   ]
  },
  {
   "cell_type": "code",
   "execution_count": 3,
   "id": "51b64052",
   "metadata": {},
   "outputs": [],
   "source": [
    "fashion_mnist = keras.datasets.fashion_mnist"
   ]
  },
  {
   "cell_type": "code",
   "execution_count": 4,
   "id": "f429d600",
   "metadata": {},
   "outputs": [
    {
     "name": "stdout",
     "output_type": "stream",
     "text": [
      "Downloading data from https://storage.googleapis.com/tensorflow/tf-keras-datasets/train-labels-idx1-ubyte.gz\n",
      "32768/29515 [=================================] - 0s 3us/step\n",
      "40960/29515 [=========================================] - 0s 3us/step\n",
      "Downloading data from https://storage.googleapis.com/tensorflow/tf-keras-datasets/train-images-idx3-ubyte.gz\n",
      "26427392/26421880 [==============================] - 22s 1us/step\n",
      "26435584/26421880 [==============================] - 22s 1us/step\n",
      "Downloading data from https://storage.googleapis.com/tensorflow/tf-keras-datasets/t10k-labels-idx1-ubyte.gz\n",
      "16384/5148 [===============================================================================================] - 0s 0us/step\n",
      "Downloading data from https://storage.googleapis.com/tensorflow/tf-keras-datasets/t10k-images-idx3-ubyte.gz\n",
      "4423680/4422102 [==============================] - 4s 1us/step\n",
      "4431872/4422102 [==============================] - 4s 1us/step\n"
     ]
    }
   ],
   "source": [
    "(X_train_full,y_train_full),(X_test,y_test) = fashion_mnist.load_data()"
   ]
  },
  {
   "cell_type": "code",
   "execution_count": 9,
   "id": "13fa0840",
   "metadata": {},
   "outputs": [
    {
     "name": "stdout",
     "output_type": "stream",
     "text": [
      "(60000, 28, 28) uint8\n"
     ]
    }
   ],
   "source": [
    "print(X_train_full.shape,X_train_full.dtype)"
   ]
  },
  {
   "cell_type": "code",
   "execution_count": 10,
   "id": "c4c182dc",
   "metadata": {},
   "outputs": [],
   "source": [
    "X_valid,X_train=X_train_full[:5000]/255.0,X_train_full[5000:]/255.0\n",
    "y_valid,y_train=y_train_full[:5000],y_train_full[5000:]"
   ]
  },
  {
   "cell_type": "code",
   "execution_count": 11,
   "id": "0c6d1282",
   "metadata": {},
   "outputs": [],
   "source": [
    "class_names = ['T-shirt','Trouser','Pullover','Dress','Coat',\n",
    "              'Sandal','Shirt','Sneaker','Bag','Ankle boot']"
   ]
  },
  {
   "cell_type": "code",
   "execution_count": 12,
   "id": "5e8ecee5",
   "metadata": {},
   "outputs": [
    {
     "data": {
      "text/plain": [
       "'Coat'"
      ]
     },
     "execution_count": 12,
     "metadata": {},
     "output_type": "execute_result"
    }
   ],
   "source": [
    "class_names[y_train[0]]"
   ]
  },
  {
   "cell_type": "code",
   "execution_count": 13,
   "id": "09893ff2",
   "metadata": {},
   "outputs": [
    {
     "name": "stderr",
     "output_type": "stream",
     "text": [
      "2022-01-13 20:28:28.291108: I tensorflow/core/common_runtime/pluggable_device/pluggable_device_factory.cc:305] Could not identify NUMA node of platform GPU ID 0, defaulting to 0. Your kernel may not have been built with NUMA support.\n",
      "2022-01-13 20:28:28.291406: I tensorflow/core/common_runtime/pluggable_device/pluggable_device_factory.cc:271] Created TensorFlow device (/job:localhost/replica:0/task:0/device:GPU:0 with 0 MB memory) -> physical PluggableDevice (device: 0, name: METAL, pci bus id: <undefined>)\n"
     ]
    },
    {
     "name": "stdout",
     "output_type": "stream",
     "text": [
      "Metal device set to: Apple M1\n"
     ]
    }
   ],
   "source": [
    "model = keras.models.Sequential()\n",
    "model.add(keras.layers.Flatten(input_shape=[28,28]))\n",
    "model.add(keras.layers.Dense(300,activation='relu'))\n",
    "model.add(keras.layers.Dense(100,activation='relu'))\n",
    "model.add(keras.layers.Dense(10,activation='softmax'))"
   ]
  },
  {
   "cell_type": "code",
   "execution_count": 14,
   "id": "e329719b",
   "metadata": {},
   "outputs": [
    {
     "name": "stdout",
     "output_type": "stream",
     "text": [
      "Model: \"sequential\"\n",
      "_________________________________________________________________\n",
      " Layer (type)                Output Shape              Param #   \n",
      "=================================================================\n",
      " flatten (Flatten)           (None, 784)               0         \n",
      "                                                                 \n",
      " dense (Dense)               (None, 300)               235500    \n",
      "                                                                 \n",
      " dense_1 (Dense)             (None, 100)               30100     \n",
      "                                                                 \n",
      " dense_2 (Dense)             (None, 10)                1010      \n",
      "                                                                 \n",
      "=================================================================\n",
      "Total params: 266,610\n",
      "Trainable params: 266,610\n",
      "Non-trainable params: 0\n",
      "_________________________________________________________________\n"
     ]
    }
   ],
   "source": [
    "model.summary()"
   ]
  },
  {
   "cell_type": "code",
   "execution_count": 15,
   "id": "700da41c",
   "metadata": {},
   "outputs": [
    {
     "data": {
      "text/plain": [
       "[<keras.layers.core.flatten.Flatten at 0x175cc6910>,\n",
       " <keras.layers.core.dense.Dense at 0x175cc69a0>,\n",
       " <keras.layers.core.dense.Dense at 0x1776d4490>,\n",
       " <keras.layers.core.dense.Dense at 0x17773a070>]"
      ]
     },
     "execution_count": 15,
     "metadata": {},
     "output_type": "execute_result"
    }
   ],
   "source": [
    "model.layers"
   ]
  },
  {
   "cell_type": "code",
   "execution_count": 20,
   "id": "e6caca20",
   "metadata": {},
   "outputs": [
    {
     "name": "stdout",
     "output_type": "stream",
     "text": [
      "flatten\n",
      "dense\n",
      "dense_1\n",
      "dense_2\n"
     ]
    }
   ],
   "source": [
    "for layer in model.layers:\n",
    "    print(layer.name)"
   ]
  },
  {
   "cell_type": "code",
   "execution_count": 25,
   "id": "7bef9519",
   "metadata": {},
   "outputs": [],
   "source": [
    "weights,biases=model.layers[1].get_weights()"
   ]
  },
  {
   "cell_type": "code",
   "execution_count": 27,
   "id": "9d81b7b3",
   "metadata": {},
   "outputs": [
    {
     "name": "stdout",
     "output_type": "stream",
     "text": [
      "(784, 300) (300,)\n"
     ]
    }
   ],
   "source": [
    "print(weights.shape,biases.shape)"
   ]
  },
  {
   "cell_type": "code",
   "execution_count": 31,
   "id": "fafe2629",
   "metadata": {},
   "outputs": [],
   "source": [
    "model.compile(loss='sparse_categorical_crossentropy',\n",
    "             optimizer='sgd',\n",
    "             metrics=['accuracy'])"
   ]
  },
  {
   "cell_type": "code",
   "execution_count": 32,
   "id": "32954002",
   "metadata": {},
   "outputs": [
    {
     "name": "stdout",
     "output_type": "stream",
     "text": [
      "Epoch 1/30\n"
     ]
    },
    {
     "name": "stderr",
     "output_type": "stream",
     "text": [
      "2022-01-13 20:53:24.454862: I tensorflow/core/grappler/optimizers/custom_graph_optimizer_registry.cc:112] Plugin optimizer for device_type GPU is enabled.\n"
     ]
    },
    {
     "name": "stdout",
     "output_type": "stream",
     "text": [
      "1714/1719 [============================>.] - ETA: 0s - loss: 0.7309 - accuracy: 0.7602"
     ]
    },
    {
     "name": "stderr",
     "output_type": "stream",
     "text": [
      "2022-01-13 20:53:36.086576: I tensorflow/core/grappler/optimizers/custom_graph_optimizer_registry.cc:112] Plugin optimizer for device_type GPU is enabled.\n"
     ]
    },
    {
     "name": "stdout",
     "output_type": "stream",
     "text": [
      "1719/1719 [==============================] - 12s 6ms/step - loss: 0.7305 - accuracy: 0.7604 - val_loss: 0.5515 - val_accuracy: 0.8146\n",
      "Epoch 2/30\n",
      "1719/1719 [==============================] - 9s 5ms/step - loss: 0.4917 - accuracy: 0.8283 - val_loss: 0.4522 - val_accuracy: 0.8490\n",
      "Epoch 3/30\n",
      "1719/1719 [==============================] - 10s 6ms/step - loss: 0.4462 - accuracy: 0.8438 - val_loss: 0.4231 - val_accuracy: 0.8568\n",
      "Epoch 4/30\n",
      "1719/1719 [==============================] - 9s 5ms/step - loss: 0.4185 - accuracy: 0.8522 - val_loss: 0.3984 - val_accuracy: 0.8628\n",
      "Epoch 5/30\n",
      "1719/1719 [==============================] - 9s 6ms/step - loss: 0.3978 - accuracy: 0.8607 - val_loss: 0.3872 - val_accuracy: 0.8656\n",
      "Epoch 6/30\n",
      "1719/1719 [==============================] - 9s 6ms/step - loss: 0.3798 - accuracy: 0.8650 - val_loss: 0.4225 - val_accuracy: 0.8470\n",
      "Epoch 7/30\n",
      "1719/1719 [==============================] - 9s 6ms/step - loss: 0.3678 - accuracy: 0.8702 - val_loss: 0.3744 - val_accuracy: 0.8656\n",
      "Epoch 8/30\n",
      "1719/1719 [==============================] - 10s 6ms/step - loss: 0.3545 - accuracy: 0.8742 - val_loss: 0.3677 - val_accuracy: 0.8692\n",
      "Epoch 9/30\n",
      "1719/1719 [==============================] - 10s 6ms/step - loss: 0.3444 - accuracy: 0.8770 - val_loss: 0.3503 - val_accuracy: 0.8782\n",
      "Epoch 10/30\n",
      "1719/1719 [==============================] - 10s 6ms/step - loss: 0.3350 - accuracy: 0.8806 - val_loss: 0.3381 - val_accuracy: 0.8818\n",
      "Epoch 11/30\n",
      "1719/1719 [==============================] - 10s 6ms/step - loss: 0.3258 - accuracy: 0.8831 - val_loss: 0.3562 - val_accuracy: 0.8778\n",
      "Epoch 12/30\n",
      "1719/1719 [==============================] - 10s 6ms/step - loss: 0.3184 - accuracy: 0.8860 - val_loss: 0.3323 - val_accuracy: 0.8802\n",
      "Epoch 13/30\n",
      "1719/1719 [==============================] - 10s 6ms/step - loss: 0.3110 - accuracy: 0.8873 - val_loss: 0.3482 - val_accuracy: 0.8764\n",
      "Epoch 14/30\n",
      "1719/1719 [==============================] - 9s 5ms/step - loss: 0.3040 - accuracy: 0.8914 - val_loss: 0.3266 - val_accuracy: 0.8844\n",
      "Epoch 15/30\n",
      "1719/1719 [==============================] - 9s 5ms/step - loss: 0.2973 - accuracy: 0.8930 - val_loss: 0.3374 - val_accuracy: 0.8814\n",
      "Epoch 16/30\n",
      "1719/1719 [==============================] - 9s 5ms/step - loss: 0.2910 - accuracy: 0.8952 - val_loss: 0.3222 - val_accuracy: 0.8852\n",
      "Epoch 17/30\n",
      "1719/1719 [==============================] - 9s 5ms/step - loss: 0.2854 - accuracy: 0.8966 - val_loss: 0.3333 - val_accuracy: 0.8758\n",
      "Epoch 18/30\n",
      "1719/1719 [==============================] - 9s 5ms/step - loss: 0.2795 - accuracy: 0.8983 - val_loss: 0.3240 - val_accuracy: 0.8834\n",
      "Epoch 19/30\n",
      "1719/1719 [==============================] - 9s 5ms/step - loss: 0.2745 - accuracy: 0.9010 - val_loss: 0.3131 - val_accuracy: 0.8898\n",
      "Epoch 20/30\n",
      "1719/1719 [==============================] - 9s 5ms/step - loss: 0.2688 - accuracy: 0.9041 - val_loss: 0.3250 - val_accuracy: 0.8844\n",
      "Epoch 21/30\n",
      "1719/1719 [==============================] - 9s 5ms/step - loss: 0.2645 - accuracy: 0.9055 - val_loss: 0.3214 - val_accuracy: 0.8850\n",
      "Epoch 22/30\n",
      "1719/1719 [==============================] - 9s 5ms/step - loss: 0.2599 - accuracy: 0.9057 - val_loss: 0.3041 - val_accuracy: 0.8898\n",
      "Epoch 23/30\n",
      "1719/1719 [==============================] - 9s 5ms/step - loss: 0.2561 - accuracy: 0.9076 - val_loss: 0.2993 - val_accuracy: 0.8910\n",
      "Epoch 24/30\n",
      "1719/1719 [==============================] - 10s 6ms/step - loss: 0.2502 - accuracy: 0.9109 - val_loss: 0.3007 - val_accuracy: 0.8908\n",
      "Epoch 25/30\n",
      "1719/1719 [==============================] - 10s 6ms/step - loss: 0.2463 - accuracy: 0.9120 - val_loss: 0.2995 - val_accuracy: 0.8924\n",
      "Epoch 26/30\n",
      "1719/1719 [==============================] - 9s 5ms/step - loss: 0.2424 - accuracy: 0.9131 - val_loss: 0.3035 - val_accuracy: 0.8936\n",
      "Epoch 27/30\n",
      "1719/1719 [==============================] - 9s 5ms/step - loss: 0.2387 - accuracy: 0.9138 - val_loss: 0.3017 - val_accuracy: 0.8904\n",
      "Epoch 28/30\n",
      "1719/1719 [==============================] - 9s 5ms/step - loss: 0.2347 - accuracy: 0.9159 - val_loss: 0.3551 - val_accuracy: 0.8782\n",
      "Epoch 29/30\n",
      "1719/1719 [==============================] - 9s 5ms/step - loss: 0.2308 - accuracy: 0.9168 - val_loss: 0.3063 - val_accuracy: 0.8888\n",
      "Epoch 30/30\n",
      "1719/1719 [==============================] - 10s 6ms/step - loss: 0.2266 - accuracy: 0.9178 - val_loss: 0.3099 - val_accuracy: 0.8912\n"
     ]
    }
   ],
   "source": [
    "history = model.fit(X_train,y_train,epochs=30,validation_data=(X_valid,y_valid))"
   ]
  },
  {
   "cell_type": "code",
   "execution_count": 34,
   "id": "776bac31",
   "metadata": {},
   "outputs": [
    {
     "data": {
      "text/plain": [
       "{'verbose': 1, 'epochs': 30, 'steps': 1719}"
      ]
     },
     "execution_count": 34,
     "metadata": {},
     "output_type": "execute_result"
    }
   ],
   "source": [
    "history.params"
   ]
  },
  {
   "cell_type": "code",
   "execution_count": 36,
   "id": "5db062d9",
   "metadata": {},
   "outputs": [
    {
     "data": {
      "text/plain": [
       "({'loss': [0.7305045127868652,\n",
       "   0.49166780710220337,\n",
       "   0.44615232944488525,\n",
       "   0.41846925020217896,\n",
       "   0.3978159725666046,\n",
       "   0.3798046410083771,\n",
       "   0.3677518665790558,\n",
       "   0.35448408126831055,\n",
       "   0.34441033005714417,\n",
       "   0.33500558137893677,\n",
       "   0.3257652223110199,\n",
       "   0.31844860315322876,\n",
       "   0.3109545409679413,\n",
       "   0.3040117919445038,\n",
       "   0.29733189940452576,\n",
       "   0.29101476073265076,\n",
       "   0.2853759229183197,\n",
       "   0.279546856880188,\n",
       "   0.274511456489563,\n",
       "   0.26881512999534607,\n",
       "   0.26450708508491516,\n",
       "   0.2599198520183563,\n",
       "   0.256144642829895,\n",
       "   0.2501894235610962,\n",
       "   0.24628816545009613,\n",
       "   0.24242697656154633,\n",
       "   0.23874519765377045,\n",
       "   0.23469321429729462,\n",
       "   0.2307594269514084,\n",
       "   0.22656381130218506],\n",
       "  'accuracy': [0.7603636384010315,\n",
       "   0.8283272385597229,\n",
       "   0.8438363671302795,\n",
       "   0.8521999716758728,\n",
       "   0.8607090711593628,\n",
       "   0.8649635910987854,\n",
       "   0.870236337184906,\n",
       "   0.8741636276245117,\n",
       "   0.87701815366745,\n",
       "   0.8805636167526245,\n",
       "   0.8830727338790894,\n",
       "   0.8860181570053101,\n",
       "   0.8873454332351685,\n",
       "   0.8914363384246826,\n",
       "   0.8930000066757202,\n",
       "   0.8951817750930786,\n",
       "   0.8965999484062195,\n",
       "   0.898272693157196,\n",
       "   0.9009999632835388,\n",
       "   0.9040727019309998,\n",
       "   0.9054908752441406,\n",
       "   0.9056909084320068,\n",
       "   0.9075636267662048,\n",
       "   0.9109454154968262,\n",
       "   0.9120181798934937,\n",
       "   0.9131090641021729,\n",
       "   0.9137636423110962,\n",
       "   0.9159272313117981,\n",
       "   0.9167636036872864,\n",
       "   0.9178363680839539],\n",
       "  'val_loss': [0.5515472888946533,\n",
       "   0.45220768451690674,\n",
       "   0.4231131672859192,\n",
       "   0.3984091281890869,\n",
       "   0.38722583651542664,\n",
       "   0.4224977195262909,\n",
       "   0.37435632944107056,\n",
       "   0.3676532804965973,\n",
       "   0.3503383994102478,\n",
       "   0.33813583850860596,\n",
       "   0.35615798830986023,\n",
       "   0.33228838443756104,\n",
       "   0.3481568694114685,\n",
       "   0.3266003429889679,\n",
       "   0.337355375289917,\n",
       "   0.3222247064113617,\n",
       "   0.3332957923412323,\n",
       "   0.32400351762771606,\n",
       "   0.3130567967891693,\n",
       "   0.3250236511230469,\n",
       "   0.32139986753463745,\n",
       "   0.3040696084499359,\n",
       "   0.29925718903541565,\n",
       "   0.30072781443595886,\n",
       "   0.2994784116744995,\n",
       "   0.303493469953537,\n",
       "   0.3017348349094391,\n",
       "   0.35511890053749084,\n",
       "   0.3062974214553833,\n",
       "   0.3098563253879547],\n",
       "  'val_accuracy': [0.8146000504493713,\n",
       "   0.8490000367164612,\n",
       "   0.8568000197410583,\n",
       "   0.8628000617027283,\n",
       "   0.865600049495697,\n",
       "   0.8470000624656677,\n",
       "   0.865600049495697,\n",
       "   0.8692000508308411,\n",
       "   0.8782000541687012,\n",
       "   0.8818000555038452,\n",
       "   0.8778000473976135,\n",
       "   0.8802000284194946,\n",
       "   0.8764000535011292,\n",
       "   0.8844000697135925,\n",
       "   0.8814000487327576,\n",
       "   0.885200023651123,\n",
       "   0.8758000135421753,\n",
       "   0.883400022983551,\n",
       "   0.8898000717163086,\n",
       "   0.8844000697135925,\n",
       "   0.8850000500679016,\n",
       "   0.8898000717163086,\n",
       "   0.8910000324249268,\n",
       "   0.8908000588417053,\n",
       "   0.8924000263214111,\n",
       "   0.8936000466346741,\n",
       "   0.8904000520706177,\n",
       "   0.8782000541687012,\n",
       "   0.8888000249862671,\n",
       "   0.891200065612793]},\n",
       " [0,\n",
       "  1,\n",
       "  2,\n",
       "  3,\n",
       "  4,\n",
       "  5,\n",
       "  6,\n",
       "  7,\n",
       "  8,\n",
       "  9,\n",
       "  10,\n",
       "  11,\n",
       "  12,\n",
       "  13,\n",
       "  14,\n",
       "  15,\n",
       "  16,\n",
       "  17,\n",
       "  18,\n",
       "  19,\n",
       "  20,\n",
       "  21,\n",
       "  22,\n",
       "  23,\n",
       "  24,\n",
       "  25,\n",
       "  26,\n",
       "  27,\n",
       "  28,\n",
       "  29])"
      ]
     },
     "execution_count": 36,
     "metadata": {},
     "output_type": "execute_result"
    }
   ],
   "source": [
    "history.history,history.epoch"
   ]
  },
  {
   "cell_type": "code",
   "execution_count": 37,
   "id": "636573c1",
   "metadata": {},
   "outputs": [
    {
     "data": {
      "text/plain": [
       "<AxesSubplot:>"
      ]
     },
     "execution_count": 37,
     "metadata": {},
     "output_type": "execute_result"
    },
    {
     "data": {
      "image/png": "[encoded data removed]",
      "text/plain": [
       "<Figure size 576x360 with 1 Axes>"
      ]
     },
     "metadata": {
      "needs_background": "light"
     },
     "output_type": "display_data"
    }
   ],
   "source": [
    "import pandas as pd\n",
    "pd.DataFrame(history.history).plot(figsize=(8,5))"
   ]
  },
  {
   "cell_type": "code",
   "execution_count": 38,
   "id": "e3a57ba3",
   "metadata": {},
   "outputs": [
    {
     "name": "stdout",
     "output_type": "stream",
     "text": [
      " 22/313 [=>............................] - ETA: 1s - loss: 69.3340 - accuracy: 0.8310"
     ]
    },
    {
     "name": "stderr",
     "output_type": "stream",
     "text": [
      "2022-01-13 21:38:47.509504: I tensorflow/core/grappler/optimizers/custom_graph_optimizer_registry.cc:112] Plugin optimizer for device_type GPU is enabled.\n"
     ]
    },
    {
     "name": "stdout",
     "output_type": "stream",
     "text": [
      "313/313 [==============================] - 2s 5ms/step - loss: 82.6076 - accuracy: 0.8205\n"
     ]
    },
    {
     "data": {
      "text/plain": [
       "[82.6076431274414, 0.8205000162124634]"
      ]
     },
     "execution_count": 38,
     "metadata": {},
     "output_type": "execute_result"
    }
   ],
   "source": [
    "model.evaluate(X_test,y_test)"
   ]
  },
  {
   "cell_type": "code",
   "execution_count": 39,
   "id": "983c62b1",
   "metadata": {},
   "outputs": [],
   "source": [
    "X_new = X_test[:3]"
   ]
  },
  {
   "cell_type": "code",
   "execution_count": 58,
   "id": "e9128a10",
   "metadata": {},
   "outputs": [],
   "source": [
    "y_proba = model.predict(X_new)"
   ]
  },
  {
   "cell_type": "code",
   "execution_count": 59,
   "id": "5d0d122d",
   "metadata": {},
   "outputs": [],
   "source": [
    "y_pred = tf.math.argmax(y_proba,axis=1)"
   ]
  },
  {
   "cell_type": "code",
   "execution_count": 60,
   "id": "fd145f9c",
   "metadata": {},
   "outputs": [
    {
     "data": {
      "text/plain": [
       "array(['T-shirt', 'Trouser', 'Pullover', 'Dress', 'Coat', 'Sandal',\n",
       "       'Shirt', 'Sneaker', 'Bag', 'Ankle boot'], dtype='<U10')"
      ]
     },
     "execution_count": 60,
     "metadata": {},
     "output_type": "execute_result"
    }
   ],
   "source": [
    "import numpy as np\n",
    "np.array(class_names)"
   ]
  },
  {
   "cell_type": "code",
   "execution_count": null,
   "id": "fb9f830b",
   "metadata": {},
   "outputs": [],
   "source": []
  }
 ],
 "metadata": {
  "kernelspec": {
   "display_name": "Python 3 (ipykernel)",
   "language": "python",
   "name": "python3"
  },
  "language_info": {
   "codemirror_mode": {
    "name": "ipython",
    "version": 3
   },
   "file_extension": ".py",
   "mimetype": "text/x-python",
   "name": "python",
   "nbconvert_exporter": "python",
   "pygments_lexer": "ipython3",
   "version": "3.8.12"
  }
 },
 "nbformat": 4,
 "nbformat_minor": 5
}
